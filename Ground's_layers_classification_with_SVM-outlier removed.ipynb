{
 "cells": [
  {
   "cell_type": "code",
   "execution_count": 1,
   "metadata": {},
   "outputs": [],
   "source": [
    "# todo:search for hyper parameters\n",
    "from sklearn.model_selection import GridSearchCV\n",
    "# def svc_param_selection(X, y, nfolds):\n",
    "#     Cs = [0.001, 0.01, 0.1, 1, 10]\n",
    "#     gammas = [0.001, 0.01, 0.1, 1]\n",
    "#     param_grid = {'C': Cs, 'gamma' : gammas}\n",
    "#     grid_search = GridSearchCV(svm.SVC(kernel='rbf'), param_grid, cv=nfolds)\n",
    "#     grid_search.fit(X, y.values.ravel())\n",
    "#     grid_search.best_params_\n",
    "#     return grid_search.best_params_\n",
    "\n",
    "# svc_param_selection(X_train,Y_train,4)"
   ]
  },
  {
   "cell_type": "code",
   "execution_count": 2,
   "metadata": {},
   "outputs": [],
   "source": [
    "import pandas as pd\n",
    "import seaborn as sns\n",
    "import matplotlib.pyplot as plt\n",
    "import numpy as np\n",
    "from sklearn.preprocessing import LabelEncoder,OneHotEncoder,LabelBinarizer\n",
    "from sklearn.model_selection import train_test_split\n",
    "from sklearn.metrics import f1_score\n",
    "from sklearn.metrics import confusion_matrix\n",
    "from sklearn.metrics import cohen_kappa_score\n",
    "from sklearn.model_selection import RandomizedSearchCV\n",
    "from sklearn.preprocessing import StandardScaler\n",
    "rs=7"
   ]
  },
  {
   "cell_type": "code",
   "execution_count": 79,
   "metadata": {},
   "outputs": [
    {
     "data": {
      "text/plain": [
       "(pandas.core.frame.DataFrame,\n",
       " 1330,\n",
       "      Depth  CALI   CGR     DT   NPHI  RHOB    RT     SGR  lithofacies\n",
       " 0  3439.06  8.00  7.77  62.18  13.90  2.69  0.06 -999.25            5\n",
       " 1  3439.21  8.26  7.50  62.72  13.21  2.66  0.09 -999.25            5\n",
       " 2  3439.36  8.67  7.07  63.23  12.10  2.62  0.13 -999.25            5\n",
       " 3  3439.52  8.72  6.88  63.59  11.79  2.58  0.13 -999.25            5\n",
       " 4  3439.67  8.80  6.59  63.69  11.30  2.53  0.13 -999.25            5)"
      ]
     },
     "execution_count": 79,
     "metadata": {},
     "output_type": "execute_result"
    }
   ],
   "source": [
    "dataNoNa=pd.read_csv('data_noNa.csv')\n",
    "type(dataNoNa),len(dataNoNa),dataNoNa.head()"
   ]
  },
  {
   "cell_type": "code",
   "execution_count": 72,
   "metadata": {},
   "outputs": [
    {
     "data": {
      "text/plain": [
       "(pandas.core.frame.DataFrame,\n",
       " 1330,\n",
       "      Depth  CALI   CGR     DT   NPHI  RHOB    RT     SGR lithofacies\n",
       " 0  3439.06  8.00  7.77  62.18  13.90  2.69  0.06 -999.25          pk\n",
       " 1  3439.21  8.26  7.50  62.72  13.21  2.66  0.09 -999.25          pk\n",
       " 2  3439.36  8.67  7.07  63.23  12.10  2.62  0.13 -999.25          pk\n",
       " 3  3439.52  8.72  6.88  63.59  11.79  2.58  0.13 -999.25          pk\n",
       " 4  3439.67  8.80  6.59  63.69  11.30  2.53  0.13 -999.25          pk)"
      ]
     },
     "execution_count": 72,
     "metadata": {},
     "output_type": "execute_result"
    }
   ],
   "source": [
    "# rawdata=pd.read_csv(\"../csvs/log-305.csv\")\n",
    "# dataNoNa=rawdata.dropna()\n",
    "# type(dataNoNa),len(dataNoNa),dataNoNa.head()"
   ]
  },
  {
   "cell_type": "code",
   "execution_count": 80,
   "metadata": {},
   "outputs": [],
   "source": [
    "Q1 = dataNoNa.quantile(0.25)\n",
    "Q3 = dataNoNa.quantile(0.75)\n",
    "IQR = Q3 - Q1\n",
    "mask = (dataNoNa.iloc[:,:8] < (Q1 - 1.5 * IQR)) | (dataNoNa.iloc[:,:8] > (Q3 + 1.5 * IQR))\n",
    "dataNoNa[mask] = np.nan\n",
    "dataNoNa.dropna(inplace=True)"
   ]
  },
  {
   "cell_type": "code",
   "execution_count": 81,
   "metadata": {},
   "outputs": [
    {
     "data": {
      "text/plain": [
       "count    948.000000\n",
       "mean       4.335443\n",
       "std        1.581082\n",
       "min        0.000000\n",
       "25%        4.000000\n",
       "50%        5.000000\n",
       "75%        5.000000\n",
       "max        6.000000\n",
       "Name: lithofacies, dtype: float64"
      ]
     },
     "execution_count": 81,
     "metadata": {},
     "output_type": "execute_result"
    }
   ],
   "source": [
    "dataNoNa['lithofacies'].describe()"
   ]
  },
  {
   "cell_type": "code",
   "execution_count": 82,
   "metadata": {},
   "outputs": [
    {
     "data": {
      "image/png": "[encoded data removed]",
      "text/plain": [
       "<Figure size 432x288 with 1 Axes>"
      ]
     },
     "metadata": {
      "needs_background": "light"
     },
     "output_type": "display_data"
    }
   ],
   "source": [
    "countplot=sns.countplot(dataNoNa['lithofacies'])\n",
    "c=countplot.get_figure()\n",
    "c.savefig('../plots/countplot_after_outlier_removal.png')"
   ]
  },
  {
   "cell_type": "code",
   "execution_count": 58,
   "metadata": {},
   "outputs": [],
   "source": [
    "X=dataNoNa.iloc[:,:8]\n",
    "y=dataNoNa.iloc[:,8:]\n",
    "X_train, X_test, Y_train, Y_test =( train_test_split(X, y, \n",
    "                                test_size=0.30, random_state=rs))"
   ]
  },
  {
   "cell_type": "code",
   "execution_count": 59,
   "metadata": {},
   "outputs": [
    {
     "data": {
      "text/plain": [
       "Int64Index([ 880,  556,  707,   58,  492,  463,  471,   24, 1314,  777,\n",
       "            ...\n",
       "             366,  345,  535, 1209,  919,  211,  502,  537, 1220,  175],\n",
       "           dtype='int64', length=931)"
      ]
     },
     "execution_count": 59,
     "metadata": {},
     "output_type": "execute_result"
    }
   ],
   "source": [
    "#same test data as previous models\n",
    "X_train.index"
   ]
  },
  {
   "cell_type": "code",
   "execution_count": 60,
   "metadata": {},
   "outputs": [
    {
     "name": "stdout",
     "output_type": "stream",
     "text": [
      "931\n",
      "399\n"
     ]
    }
   ],
   "source": [
    "print(len(X_train))\n",
    "print(len(X_test))"
   ]
  },
  {
   "cell_type": "code",
   "execution_count": 14,
   "metadata": {},
   "outputs": [
    {
     "data": {
      "text/plain": [
       "<matplotlib.axes._subplots.AxesSubplot at 0x7fd3586dcdd8>"
      ]
     },
     "execution_count": 14,
     "metadata": {},
     "output_type": "execute_result"
    },
    {
     "data": {
      "image/png": "[encoded data removed]",
      "text/plain": [
       "<Figure size 432x288 with 1 Axes>"
      ]
     },
     "metadata": {
      "needs_background": "light"
     },
     "output_type": "display_data"
    }
   ],
   "source": [
    "sns.countplot(Y_train['lithofacies'])"
   ]
  },
  {
   "cell_type": "code",
   "execution_count": 15,
   "metadata": {},
   "outputs": [
    {
     "data": {
      "text/plain": [
       "<matplotlib.axes._subplots.AxesSubplot at 0x7fd35864c710>"
      ]
     },
     "execution_count": 15,
     "metadata": {},
     "output_type": "execute_result"
    },
    {
     "data": {
      "image/png": "[encoded data removed]",
      "text/plain": [
       "<Figure size 432x288 with 1 Axes>"
      ]
     },
     "metadata": {
      "needs_background": "light"
     },
     "output_type": "display_data"
    }
   ],
   "source": [
    "sns.countplot(Y_test['lithofacies'])"
   ]
  },
  {
   "cell_type": "code",
   "execution_count": 16,
   "metadata": {},
   "outputs": [],
   "source": [
    "from sklearn import svm\n",
    "scores={}"
   ]
  },
  {
   "cell_type": "code",
   "execution_count": 17,
   "metadata": {},
   "outputs": [
    {
     "data": {
      "text/plain": [
       "SVC(C=10, cache_size=200, class_weight=None, coef0=0.0,\n",
       "  decision_function_shape='ovr', degree=3, gamma=0.01, kernel='rbf',\n",
       "  max_iter=-1, probability=False, random_state=7, shrinking=True,\n",
       "  tol=0.001, verbose=False)"
      ]
     },
     "execution_count": 17,
     "metadata": {},
     "output_type": "execute_result"
    }
   ],
   "source": [
    "# from sklearn.preprocessing import normalize\n",
    "\n",
    "clf_svm = svm.SVC(random_state=rs,gamma=0.01,C=10)\n",
    "#scaler=StandardScaler()\n",
    "#X_train_scaled=scaler.fit_transform(X_train,y=Y_tran)\n",
    "clf_svm.fit(X_train,Y_train.values.ravel())\n",
    "\n",
    "clf_svm"
   ]
  },
  {
   "cell_type": "code",
   "execution_count": 18,
   "metadata": {},
   "outputs": [],
   "source": [
    "y_pred=clf_svm.predict(X_test)"
   ]
  },
  {
   "cell_type": "code",
   "execution_count": 19,
   "metadata": {},
   "outputs": [
    {
     "data": {
      "text/plain": [
       "{'f1 SVM-rfb': 0.9145957808110117}"
      ]
     },
     "execution_count": 19,
     "metadata": {},
     "output_type": "execute_result"
    }
   ],
   "source": [
    "scores['f1 SVM-rfb']=f1_score(Y_test, y_pred, average='weighted') \n",
    "scores"
   ]
  },
  {
   "cell_type": "code",
   "execution_count": 20,
   "metadata": {},
   "outputs": [
    {
     "data": {
      "text/plain": [
       "<matplotlib.axes._subplots.AxesSubplot at 0x7fd3580d2668>"
      ]
     },
     "execution_count": 20,
     "metadata": {},
     "output_type": "execute_result"
    },
    {
     "data": {
      "image/png": "[encoded data removed]",
      "text/plain": [
       "<Figure size 432x288 with 1 Axes>"
      ]
     },
     "metadata": {
      "needs_background": "light"
     },
     "output_type": "display_data"
    }
   ],
   "source": [
    "sns.countplot(y_pred)"
   ]
  },
  {
   "cell_type": "code",
   "execution_count": 21,
   "metadata": {},
   "outputs": [
    {
     "data": {
      "text/plain": [
       "array([[  8,   1,   0,   0,   2,   0],\n",
       "       [  0,  35,   0,   0,   9,   0],\n",
       "       [  0,   0,   1,   0,   0,   0],\n",
       "       [  0,   0,   0,  15,   0,   1],\n",
       "       [  1,   4,   0,   0, 164,   2],\n",
       "       [  0,   0,   0,   0,   4,  38]])"
      ]
     },
     "execution_count": 21,
     "metadata": {},
     "output_type": "execute_result"
    }
   ],
   "source": [
    "confusion_matrix(Y_test, y_pred)"
   ]
  },
  {
   "cell_type": "code",
   "execution_count": 22,
   "metadata": {},
   "outputs": [],
   "source": [
    "import matplotlib.pyplot as plt\n",
    "results=pd.DataFrame()\n",
    "results['true']=Y_test['lithofacies']\n",
    "results['pred']=y_pred\n",
    "\n",
    "results.to_csv('results_svm_rfb.csv')"
   ]
  },
  {
   "cell_type": "code",
   "execution_count": 23,
   "metadata": {},
   "outputs": [
    {
     "data": {
      "text/plain": [
       "{'f1 SVM-rfb': 0.9145957808110117,\n",
       " 'cohen_kappa_score svm-rfb': 0.8538274137709962}"
      ]
     },
     "execution_count": 23,
     "metadata": {},
     "output_type": "execute_result"
    }
   ],
   "source": [
    "scores['cohen_kappa_score svm-rfb']=cohen_kappa_score(Y_test, y_pred)\n",
    "scores"
   ]
  },
  {
   "cell_type": "code",
   "execution_count": 24,
   "metadata": {},
   "outputs": [
    {
     "data": {
      "text/plain": [
       "<matplotlib.axes._subplots.AxesSubplot at 0x7fd358049978>"
      ]
     },
     "execution_count": 24,
     "metadata": {},
     "output_type": "execute_result"
    },
    {
     "data": {
      "image/png": "[encoded data removed]",
      "text/plain": [
       "<Figure size 432x288 with 2 Axes>"
      ]
     },
     "metadata": {
      "needs_background": "light"
     },
     "output_type": "display_data"
    }
   ],
   "source": [
    "sns.heatmap(confusion_matrix(Y_test, y_pred),annot=True,annot_kws={\"size\": 10})"
   ]
  },
  {
   "cell_type": "markdown",
   "metadata": {},
   "source": [
    "### cross validation error"
   ]
  },
  {
   "cell_type": "code",
   "execution_count": 25,
   "metadata": {},
   "outputs": [],
   "source": [
    "from sklearn.model_selection import cross_val_score"
   ]
  },
  {
   "cell_type": "code",
   "execution_count": 26,
   "metadata": {},
   "outputs": [
    {
     "name": "stdout",
     "output_type": "stream",
     "text": [
      "948\n",
      "190\n",
      "190\n",
      "188\n",
      "190\n",
      "190\n"
     ]
    }
   ],
   "source": [
    "# making 5 folds with same distrobutaion\n",
    "X=dataNoNa.iloc[:,:8]\n",
    "y=dataNoNa.iloc[:,8:]\n",
    "\n",
    "\n",
    "\n",
    "X_train1, X_test1, Y_train1, Y_test1 =( train_test_split(X, y, \n",
    "                                test_size=0.20, random_state=rs))\n",
    "X_train2, X_test2, Y_train2, Y_test2 =( train_test_split(X_train1, Y_train1, \n",
    "                                test_size=0.25, random_state=rs))\n",
    "X_train3, X_test3, Y_train3, Y_test3 =( train_test_split(X_train2, Y_train2, \n",
    "                                test_size=0.33, random_state=rs))\n",
    "X_test4, X_test5, Y_test4, Y_test5 =( train_test_split(X_train3, Y_train3, \n",
    "                                test_size=0.5, random_state=rs))\n",
    "\n",
    "print(len(X))\n",
    "print(len(X_test1))\n",
    "print(len(X_test2))\n",
    "print(len(X_test3))\n",
    "print(len(X_test4))\n",
    "print(len(X_test5))\n",
    "\n",
    "data_folds=[X_test1.values,X_test2.values,X_test3.values,X_test4.values,X_test5.values]\n",
    "label_folds=[Y_test1.values,Y_test2.values,Y_test3.values,Y_test4.values,Y_test5.values]"
   ]
  },
  {
   "cell_type": "code",
   "execution_count": 27,
   "metadata": {},
   "outputs": [
    {
     "data": {
      "text/plain": [
       "SVC(C=1.0, cache_size=200, class_weight=None, coef0=0.0,\n",
       "  decision_function_shape='ovr', degree=3, gamma='auto', kernel='rbf',\n",
       "  max_iter=-1, probability=False, random_state=7, shrinking=True,\n",
       "  tol=0.001, verbose=False)"
      ]
     },
     "execution_count": 27,
     "metadata": {},
     "output_type": "execute_result"
    }
   ],
   "source": [
    "svm.SVC(random_state=rs,gamma='auto')"
   ]
  },
  {
   "cell_type": "code",
   "execution_count": 28,
   "metadata": {},
   "outputs": [
    {
     "name": "stdout",
     "output_type": "stream",
     "text": [
      "0\n",
      "1\n",
      "2\n",
      "3\n",
      "4\n"
     ]
    },
    {
     "name": "stderr",
     "output_type": "stream",
     "text": [
      "/usr/local/lib/python3.6/dist-packages/sklearn/metrics/classification.py:1143: UndefinedMetricWarning: F-score is ill-defined and being set to 0.0 in labels with no predicted samples.\n",
      "  'precision', 'predicted', average, warn_for)\n",
      "/usr/local/lib/python3.6/dist-packages/sklearn/metrics/classification.py:1143: UndefinedMetricWarning: F-score is ill-defined and being set to 0.0 in labels with no predicted samples.\n",
      "  'precision', 'predicted', average, warn_for)\n",
      "/usr/local/lib/python3.6/dist-packages/sklearn/metrics/classification.py:1143: UndefinedMetricWarning: F-score is ill-defined and being set to 0.0 in labels with no predicted samples.\n",
      "  'precision', 'predicted', average, warn_for)\n",
      "/usr/local/lib/python3.6/dist-packages/sklearn/metrics/classification.py:1143: UndefinedMetricWarning: F-score is ill-defined and being set to 0.0 in labels with no predicted samples.\n",
      "  'precision', 'predicted', average, warn_for)\n"
     ]
    }
   ],
   "source": [
    "cross_scores_cohen_kappa=[]\n",
    "cross_scores_f1=[]\n",
    "for i in range(0,5):\n",
    "    print(i)\n",
    "    scaler=StandardScaler()\n",
    "    \n",
    "    X_train=np.concatenate((data_folds[:i]+data_folds[i+1:]), axis=0)\n",
    "    X_test=data_folds[i]\n",
    "    Y_train=np.concatenate((label_folds[:i]+label_folds[i+1:]), axis=0)\n",
    "    Y_test=label_folds[i]\n",
    "  \n",
    "    #X_train_scaled=scaler.fit_transform(X_train,y=Y_train)\n",
    "    #X_test_scaled=scaler.transform(X_test)\n",
    "    \n",
    "    clf_svm2 = svm.SVC(random_state=rs,gamma='auto')\n",
    "    clf_svm2.fit(X=X_train,y=Y_train.ravel())\n",
    "    y_pred=clf_svm2.predict(X_test)\n",
    "    \n",
    "    cross_scores_f1.append(f1_score(Y_test, y_pred, average='weighted') )\n",
    "    cross_scores_cohen_kappa.append(cohen_kappa_score(Y_test, y_pred) )"
   ]
  },
  {
   "cell_type": "code",
   "execution_count": 29,
   "metadata": {},
   "outputs": [
    {
     "data": {
      "text/plain": [
       "{'f1 SVM-rfb': 0.9145957808110117,\n",
       " 'cohen_kappa_score svm-rfb': 0.8538274137709962,\n",
       " 'cross_val_f1score SVM-rfb': 0.8612892968948567,\n",
       " 'cross_val_cohen_kappa_score SVM-rfb': 0.7643023592699638}"
      ]
     },
     "execution_count": 29,
     "metadata": {},
     "output_type": "execute_result"
    }
   ],
   "source": [
    "scores['cross_val_f1score SVM-rfb']=np.array(cross_scores_f1).mean()\n",
    "scores['cross_val_cohen_kappa_score SVM-rfb']=np.array(cross_scores_cohen_kappa).mean()\n",
    "\n",
    "scores"
   ]
  },
  {
   "cell_type": "code",
   "execution_count": 30,
   "metadata": {},
   "outputs": [
    {
     "data": {
      "text/plain": [
       "[0.8611341556436161,\n",
       " 0.8618207535325313,\n",
       " 0.8516630973523232,\n",
       " 0.8688084680565884,\n",
       " 0.863020009889224]"
      ]
     },
     "execution_count": 30,
     "metadata": {},
     "output_type": "execute_result"
    }
   ],
   "source": [
    "cross_scores_f1"
   ]
  },
  {
   "cell_type": "code",
   "execution_count": null,
   "metadata": {},
   "outputs": [],
   "source": []
  }
 ],
 "metadata": {
  "kernelspec": {
   "display_name": "Python 3",
   "language": "python",
   "name": "python3"
  },
  "language_info": {
   "codemirror_mode": {
    "name": "ipython",
    "version": 3
   },
   "file_extension": ".py",
   "mimetype": "text/x-python",
   "name": "python",
   "nbconvert_exporter": "python",
   "pygments_lexer": "ipython3",
   "version": "3.6.6"
  }
 },
 "nbformat": 4,
 "nbformat_minor": 2
}
